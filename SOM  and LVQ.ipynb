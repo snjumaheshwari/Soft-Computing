{
 "cells": [
  {
   "cell_type": "code",
   "execution_count": 6,
   "metadata": {},
   "outputs": [],
   "source": [
    "import numpy as np"
   ]
  },
  {
   "cell_type": "code",
   "execution_count": 8,
   "metadata": {},
   "outputs": [
    {
     "name": "stdout",
     "output_type": "stream",
     "text": [
      "learning rate of this epoch is  0.6\n"
     ]
    }
   ],
   "source": [
    "x=np.array([[1,1,0,0],[0,0,0,1],[1,0,0,0],[0,0,1,1]])\n",
    "w=np.array([[0.2,0.8],[0.6,0.4],[0.5,0.7],[0.9,0.3]])\n",
    "lrate=0.6\n",
    "e=1\n",
    "D=[0,0]\n",
    "print(\"learning rate of this epoch is \",lrate)\n",
    "\n",
    "# on each iteration learning rate =>half\n",
    "#                e => e+1\n"
   ]
  },
  {
   "cell_type": "code",
   "execution_count": 14,
   "metadata": {},
   "outputs": [
    {
     "name": "stdout",
     "output_type": "stream",
     "text": [
      "(4, 4) (4, 2)\n"
     ]
    }
   ],
   "source": [
    "\n",
    "print(x.shape,w.shape)"
   ]
  },
  {
   "cell_type": "code",
   "execution_count": 18,
   "metadata": {},
   "outputs": [
    {
     "name": "stdout",
     "output_type": "stream",
     "text": [
      "winning unt is 2\n",
      "Weight Updation__\n",
      "Updated weights [[ 0.2         0.39655192]\n",
      " [ 0.6         0.30241015]\n",
      " [ 0.5         0.58838556]\n",
      " [ 0.9         0.60344811]]\n",
      "winning unt is 2\n",
      "Weight Updation__\n",
      "Updated weights [[ 0.2         0.57758635]\n",
      " [ 0.6         0.5116871 ]\n",
      " [ 0.5         0.41186989]\n",
      " [ 0.9         0.42241367]]\n",
      "winning unt is 1\n",
      "Weight Updation__\n",
      "Updated weights [[ 0.14        0.57758635]\n",
      " [ 0.42        0.5116871 ]\n",
      " [ 0.35        0.41186989]\n",
      " [ 0.93        0.42241367]]\n",
      "winning unt is 1\n",
      "Weight Updation__\n",
      "Updated weights [[ 0.098       0.57758635]\n",
      " [ 0.294       0.5116871 ]\n",
      " [ 0.245       0.41186989]\n",
      " [ 0.951       0.42241367]]\n",
      "winning unt is 2\n",
      "Weight Updation__\n",
      "Updated weights [[ 0.098       0.70431044]\n",
      " [ 0.294       0.35818097]\n",
      " [ 0.245       0.28830893]\n",
      " [ 0.951       0.29568957]]\n",
      "winning unt is 2\n",
      "Weight Updation__\n",
      "Updated weights [[ 0.098       0.79301731]\n",
      " [ 0.294       0.25072668]\n",
      " [ 0.245       0.20181625]\n",
      " [ 0.951       0.2069827 ]]\n",
      "winning unt is 2\n",
      "Weight Updation__\n",
      "Updated weights [[ 0.098       0.55511212]\n",
      " [ 0.294       0.17550868]\n",
      " [ 0.245       0.44127137]\n",
      " [ 0.951       0.44488789]]\n",
      "winning unt is 1\n",
      "Weight Updation__\n",
      "Updated weights [[ 0.0686      0.55511212]\n",
      " [ 0.2058      0.17550868]\n",
      " [ 0.4715      0.44127137]\n",
      " [ 0.9657      0.44488789]]\n",
      "updated leanring rate and epoch  0.15 3\n"
     ]
    }
   ],
   "source": [
    "# perform this while e<50 \n",
    "\n",
    "for i in range(x.shape[0]):\n",
    "    for j in range(w.shape[1]):\n",
    "        temp=0\n",
    "        for k in range(x.shape[1]):\n",
    "            temp=temp+( w[k,j]-x[i,k])**2\n",
    "            D[j]=temp\n",
    "        if(D[0] <D[1]):\n",
    "            J=0\n",
    "        else:\n",
    "            J=1\n",
    "        print('winning unt is',J+1)\n",
    "        print('Weight Updation__')\n",
    "        \n",
    "        for m in range(x.shape[1]):\n",
    "            w[m,J]= w[m,J] + (lrate * ( x[i,m]- w[m,J]))  #1\n",
    "            \n",
    "            #LVQ is same but one condition is added that .. in place of #1\n",
    "            # if J==t[i] =>  w[m,J]= w[m,J] + (lrate * ( x[i,m]- w[m,J]))  \n",
    "            # else     =>  w[m,J]= w[m,J] - (lrate * ( x[i,m]- w[m,J])) \n",
    "            \n",
    "            # t= np.array([0,0,1,1])   \n",
    "        print('Updated weights',w)\n",
    "        \n",
    "e+=1\n",
    "lrate=lrate*0.5\n",
    "print(\"updated leanring rate and epoch \",lrate,e)\n"
   ]
  },
  {
   "cell_type": "code",
   "execution_count": null,
   "metadata": {
    "collapsed": true
   },
   "outputs": [],
   "source": []
  },
  {
   "cell_type": "code",
   "execution_count": null,
   "metadata": {
    "collapsed": true
   },
   "outputs": [],
   "source": []
  },
  {
   "cell_type": "code",
   "execution_count": null,
   "metadata": {
    "collapsed": true
   },
   "outputs": [],
   "source": [
    "\n",
    "\n"
   ]
  },
  {
   "cell_type": "code",
   "execution_count": null,
   "metadata": {
    "collapsed": true
   },
   "outputs": [],
   "source": []
  },
  {
   "cell_type": "code",
   "execution_count": null,
   "metadata": {
    "collapsed": true
   },
   "outputs": [],
   "source": []
  },
  {
   "cell_type": "code",
   "execution_count": null,
   "metadata": {
    "collapsed": true
   },
   "outputs": [],
   "source": []
  },
  {
   "cell_type": "code",
   "execution_count": null,
   "metadata": {
    "collapsed": true
   },
   "outputs": [],
   "source": []
  },
  {
   "cell_type": "code",
   "execution_count": 19,
   "metadata": {},
   "outputs": [
    {
     "name": "stdout",
     "output_type": "stream",
     "text": [
      "learning rate of this epoch is 0.6\n",
      "Epoch is 1\n",
      "winning unit is 2\n",
      "weight updation ...\n",
      "Updated weights [[ 0.2   0.92]\n",
      " [ 0.6   0.76]\n",
      " [ 0.5   0.28]\n",
      " [ 0.9   0.12]]\n",
      "winning unit is 1\n",
      "weight updation ...\n",
      "Updated weights [[ 0.08  0.92]\n",
      " [ 0.24  0.76]\n",
      " [ 0.2   0.28]\n",
      " [ 0.96  0.12]]\n",
      "winning unit is 2\n",
      "weight updation ...\n",
      "Updated weights [[ 0.08   0.968]\n",
      " [ 0.24   0.304]\n",
      " [ 0.2    0.112]\n",
      " [ 0.96   0.048]]\n",
      "winning unit is 1\n",
      "weight updation ...\n",
      "Updated weights [[ 0.032  0.968]\n",
      " [ 0.096  0.304]\n",
      " [ 0.68   0.112]\n",
      " [ 0.984  0.048]]\n",
      " updated learning rate after  2  epoch is 0.3\n",
      "Epoch is 2\n",
      "winning unit is 2\n",
      "weight updation ...\n",
      "Updated weights [[ 0.032   0.9776]\n",
      " [ 0.096   0.5128]\n",
      " [ 0.68    0.0784]\n",
      " [ 0.984   0.0336]]\n",
      "winning unit is 1\n",
      "weight updation ...\n",
      "Updated weights [[ 0.0224  0.9776]\n",
      " [ 0.0672  0.5128]\n",
      " [ 0.476   0.0784]\n",
      " [ 0.9888  0.0336]]\n",
      "winning unit is 2\n",
      "weight updation ...\n",
      "Updated weights [[ 0.0224   0.98432]\n",
      " [ 0.0672   0.35896]\n",
      " [ 0.476    0.05488]\n",
      " [ 0.9888   0.02352]]\n",
      "winning unit is 1\n",
      "weight updation ...\n",
      "Updated weights [[ 0.01568  0.98432]\n",
      " [ 0.04704  0.35896]\n",
      " [ 0.6332   0.05488]\n",
      " [ 0.99216  0.02352]]\n",
      " updated learning rate after  3  epoch is 0.15\n",
      "Epoch is 3\n",
      "winning unit is 2\n",
      "weight updation ...\n",
      "Updated weights [[ 0.01568   0.986672]\n",
      " [ 0.04704   0.455116]\n",
      " [ 0.6332    0.046648]\n",
      " [ 0.99216   0.019992]]\n",
      "winning unit is 1\n",
      "weight updation ...\n",
      "Updated weights [[ 0.013328  0.986672]\n",
      " [ 0.039984  0.455116]\n",
      " [ 0.53822   0.046648]\n",
      " [ 0.993336  0.019992]]\n",
      "winning unit is 2\n",
      "weight updation ...\n",
      "Updated weights [[ 0.013328   0.9886712]\n",
      " [ 0.039984   0.3868486]\n",
      " [ 0.53822    0.0396508]\n",
      " [ 0.993336   0.0169932]]\n",
      "winning unit is 1\n",
      "weight updation ...\n",
      "Updated weights [[ 0.0113288  0.9886712]\n",
      " [ 0.0339864  0.3868486]\n",
      " [ 0.607487   0.0396508]\n",
      " [ 0.9943356  0.0169932]]\n",
      " updated learning rate after  4  epoch is 0.075\n"
     ]
    }
   ],
   "source": [
    "import numpy as np\n",
    "x = np.array([[ 1, 1, 0, 0],[0, 0, 0, 1],[1, 0, 0, 0],[0, 0, 1, 1]])\n",
    "w =np.array([[0.2 ,0.8], [0.6, 0.4], [0.5, 0.7], [0.9, 0.3]])\n",
    "lrate= 0.6\n",
    "e=1\n",
    "D=[0,0]\n",
    "print('learning rate of this epoch is',lrate);\n",
    "while(e<=3):\n",
    "    print('Epoch is',e);\n",
    "    \n",
    "    for i in range(4):\n",
    "        for j in range(2):\n",
    "            temp=0\n",
    "            for k in range(4):\n",
    "                temp = temp + ((w[k,j]-x[i,k])**2)\n",
    "                D[j]=temp\n",
    "        \n",
    "        if(D[0]<D[1]):\n",
    "            J=0\n",
    "        else:\n",
    "            J=1\n",
    "        \n",
    "        print('winning unit is',J+1)\n",
    "        print('weight updation ...')\n",
    "        for m in range(4):\n",
    "             w[m,J]=w[m,J] + (lrate *(x[i,m]-w[m,J]))\n",
    "        print('Updated weights',w)\n",
    "        \n",
    "\n",
    "    e=e+1\n",
    "    lrate = 0.5*lrate;\n",
    "    print(' updated learning rate after ',e,' epoch is',lrate)\n"
   ]
  },
  {
   "cell_type": "code",
   "execution_count": null,
   "metadata": {
    "collapsed": true
   },
   "outputs": [],
   "source": []
  },
  {
   "cell_type": "code",
   "execution_count": null,
   "metadata": {
    "collapsed": true
   },
   "outputs": [],
   "source": []
  }
 ],
 "metadata": {
  "kernelspec": {
   "display_name": "Python 3",
   "language": "python",
   "name": "python3"
  },
  "language_info": {
   "codemirror_mode": {
    "name": "ipython",
    "version": 3
   },
   "file_extension": ".py",
   "mimetype": "text/x-python",
   "name": "python",
   "nbconvert_exporter": "python",
   "pygments_lexer": "ipython3",
   "version": "3.6.3"
  }
 },
 "nbformat": 4,
 "nbformat_minor": 2
}
