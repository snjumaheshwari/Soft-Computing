{
 "cells": [
  {
   "cell_type": "code",
   "execution_count": 2,
   "metadata": {},
   "outputs": [
    {
     "data": {
      "image/png": "[encoded data removed]",
      "text/plain": [
       "<matplotlib.figure.Figure at 0x1b7725dbfd0>"
      ]
     },
     "metadata": {},
     "output_type": "display_data"
    },
    {
     "data": {
      "image/png": "[encoded data removed]",
      "text/plain": [
       "<matplotlib.figure.Figure at 0x1b7757853c8>"
      ]
     },
     "metadata": {},
     "output_type": "display_data"
    },
    {
     "ename": "NameError",
     "evalue": "name 'gdp_cap' is not defined",
     "output_type": "error",
     "traceback": [
      "\u001b[1;31m---------------------------------------------------------------------------\u001b[0m",
      "\u001b[1;31mNameError\u001b[0m                                 Traceback (most recent call last)",
      "\u001b[1;32m<ipython-input-2-56711784edc2>\u001b[0m in \u001b[0;36m<module>\u001b[1;34m()\u001b[0m\n\u001b[0;32m     26\u001b[0m \u001b[0mplt\u001b[0m\u001b[1;33m.\u001b[0m\u001b[0mshow\u001b[0m\u001b[1;33m(\u001b[0m\u001b[1;33m)\u001b[0m\u001b[1;33m\u001b[0m\u001b[0m\n\u001b[0;32m     27\u001b[0m \u001b[1;31m####\u001b[0m\u001b[1;33m\u001b[0m\u001b[1;33m\u001b[0m\u001b[0m\n\u001b[1;32m---> 28\u001b[1;33m \u001b[0mplt\u001b[0m\u001b[1;33m.\u001b[0m\u001b[0mscatter\u001b[0m\u001b[1;33m(\u001b[0m\u001b[0mgdp_cap\u001b[0m\u001b[1;33m,\u001b[0m \u001b[0mlife_exp\u001b[0m\u001b[1;33m,\u001b[0m\u001b[0ms\u001b[0m\u001b[1;33m=\u001b[0m\u001b[0msize\u001b[0m\u001b[1;33m,\u001b[0m\u001b[0mc\u001b[0m\u001b[1;33m=\u001b[0m\u001b[0mcolor\u001b[0m\u001b[1;33m,\u001b[0m\u001b[0malpha\u001b[0m\u001b[1;33m=\u001b[0m\u001b[1;36m0.8\u001b[0m\u001b[1;33m)\u001b[0m \u001b[1;31m#opacity\u001b[0m\u001b[1;33m\u001b[0m\u001b[0m\n\u001b[0m\u001b[0;32m     29\u001b[0m \u001b[1;31m# Put the x-axis on a logarithmic scale\u001b[0m\u001b[1;33m\u001b[0m\u001b[1;33m\u001b[0m\u001b[0m\n\u001b[0;32m     30\u001b[0m \u001b[1;33m\u001b[0m\u001b[0m\n",
      "\u001b[1;31mNameError\u001b[0m: name 'gdp_cap' is not defined"
     ]
    }
   ],
   "source": [
    "import numpy as np\n",
    "from matplotlib import pyplot as plt\n",
    "plt.figure(1) # create new figure\n",
    "plt.subplot(211)#create subplot\n",
    "\n",
    "plt.plot([1,2,3,4]) # X-axis creates automatically\n",
    "plt.subplot(212)\n",
    "plt.plot([1,2,3,4],[1,4,9,6]) #plot between x,y\n",
    "#plt.figure(2)\n",
    "\n",
    "plt.plot([1,2,3,4],[1,4,9,6],'yo') # plot for red color,o\n",
    "plt.xlabel(\"x\")\n",
    "plt.ylabel(\"y\",fontsize=10,color='red')\n",
    "plt.title(\"Graph2\")\n",
    "\n",
    "plt.text(2,2,\"Hi\")\n",
    "\n",
    "plt.axis([0,6,0,20])\n",
    "\n",
    "plt.grid(True)\n",
    "plt.show()\n",
    "#plt.figure(3)\n",
    "plt.subplot(221)\n",
    "t=np.arange(0,5,0.2)\n",
    "plt.plot(t,t,'r--',t,t**2,'bs',t,t**3,'g^')\n",
    "plt.show()\n",
    "####\n",
    "plt.scatter(gdp_cap, life_exp,s=size,c=color,alpha=0.8) #opacity\n",
    "# Put the x-axis on a logarithmic scale\n",
    "\n",
    "\n",
    "plt.xscale('log')\n",
    "\n",
    "# histogram\n",
    "plt.hist(x,bins=10)  # used for distrubution\n",
    "plt.clf() # clear the plot\n",
    "####Customization\n",
    "tick_val = [1000,10000,100000]\n",
    "\n",
    "tick_lab = ['1k','10k','100k']\n",
    "\n",
    "\n",
    "# Adapt the ticks on the x-axis\n",
    "\n",
    "plt.xticks(tick_val,tick_lab)\n",
    "plt.text(5700, 80, 'China')\n",
    "####"
   ]
  },
  {
   "cell_type": "code",
   "execution_count": null,
   "metadata": {
    "collapsed": true
   },
   "outputs": [],
   "source": []
  }
 ],
 "metadata": {
  "kernelspec": {
   "display_name": "Python 3",
   "language": "python",
   "name": "python3"
  },
  "language_info": {
   "codemirror_mode": {
    "name": "ipython",
    "version": 3
   },
   "file_extension": ".py",
   "mimetype": "text/x-python",
   "name": "python",
   "nbconvert_exporter": "python",
   "pygments_lexer": "ipython3",
   "version": "3.6.3"
  }
 },
 "nbformat": 4,
 "nbformat_minor": 2
}
