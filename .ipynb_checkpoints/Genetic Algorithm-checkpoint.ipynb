{
 "cells": [
  {
   "cell_type": "code",
   "execution_count": 2,
   "metadata": {
    "collapsed": true
   },
   "outputs": [],
   "source": [
    "import numpy as np"
   ]
  },
  {
   "cell_type": "code",
   "execution_count": 16,
   "metadata": {
    "collapsed": true
   },
   "outputs": [],
   "source": [
    "\"f(x)= a+ 2b+ 3c+ 4d- 30\"\n",
    "# initialization\n",
    "n=6 # number of chromosome\n",
    "epoch=0\n",
    "chromosome=np.random.randint(0,30,(n,4))\n"
   ]
  },
  {
   "cell_type": "code",
   "execution_count": 17,
   "metadata": {},
   "outputs": [
    {
     "data": {
      "text/plain": [
       "array([[12, 29, 22,  9],\n",
       "       [23, 25, 22,  5],\n",
       "       [20, 13, 16, 10],\n",
       "       [27, 11,  7, 23],\n",
       "       [21, 21, 11, 26],\n",
       "       [29, 17, 25,  6]])"
      ]
     },
     "execution_count": 17,
     "metadata": {},
     "output_type": "execute_result"
    }
   ],
   "source": [
    "chromosome"
   ]
  },
  {
   "cell_type": "code",
   "execution_count": 18,
   "metadata": {},
   "outputs": [
    {
     "data": {
      "text/plain": [
       "array([12, 23, 20, 27, 21, 29])"
      ]
     },
     "execution_count": 18,
     "metadata": {},
     "output_type": "execute_result"
    }
   ],
   "source": [
    "chromosome[:,0]"
   ]
  },
  {
   "cell_type": "code",
   "execution_count": 19,
   "metadata": {},
   "outputs": [
    {
     "name": "stdout",
     "output_type": "stream",
     "text": [
      "Fitness object : [142 129 104 132 170 132]\n"
     ]
    }
   ],
   "source": [
    "# computation of fitness function \n",
    "    \n",
    "objective= abs(30 - chromosome[:,0]-2*chromosome[:,1]\n",
    "               -3*chromosome[:,2]-4*chromosome[:,3])\n",
    "print(\"Fitness object :\" , objective)\n"
   ]
  },
  {
   "cell_type": "code",
   "execution_count": 20,
   "metadata": {},
   "outputs": [
    {
     "name": "stdout",
     "output_type": "stream",
     "text": [
      "Fitness : [ 0.00699301  0.00769231  0.00952381  0.0075188   0.00584795  0.0075188 ]\n"
     ]
    }
   ],
   "source": [
    "# selection of fittest chromosme\n",
    "fitness= 1/ (1+objective)\n",
    "print(\"Fitness :\", fitness)"
   ]
  },
  {
   "cell_type": "code",
   "execution_count": 21,
   "metadata": {},
   "outputs": [
    {
     "name": "stdout",
     "output_type": "stream",
     "text": [
      "Total : 0.0450946714105\n"
     ]
    }
   ],
   "source": [
    "# calculating the total of fitness function \n",
    "total=fitness.sum()\n",
    "print(\"Total :\", total)"
   ]
  },
  {
   "cell_type": "code",
   "execution_count": 22,
   "metadata": {},
   "outputs": [
    {
     "name": "stdout",
     "output_type": "stream",
     "text": [
      "Probability : [ 0.15507391  0.1705813   0.2111959   0.1667336   0.12968169  0.1667336 ]\n"
     ]
    }
   ],
   "source": [
    "# calculationg Probability for each chromosome\n",
    "prob=fitness/ total\n",
    "print(\"Probability :\",prob)"
   ]
  },
  {
   "cell_type": "code",
   "execution_count": 23,
   "metadata": {},
   "outputs": [
    {
     "name": "stdout",
     "output_type": "stream",
     "text": [
      "Cumulative Sum : [ 0.15507391  0.32565521  0.53685111  0.70358471  0.8332664   1.        ]\n"
     ]
    }
   ],
   "source": [
    "#Selection using Roulette Wheel and Calculating cumulative probability\n",
    "cum_sum= np.cumsum(prob)\n",
    "print(\"Cumulative Sum :\",cum_sum)"
   ]
  },
  {
   "cell_type": "code",
   "execution_count": 24,
   "metadata": {},
   "outputs": [
    {
     "name": "stdout",
     "output_type": "stream",
     "text": [
      "6\n",
      "Random Number :  [ 0.69088233  0.39142112  0.34218603  0.01883025  0.89455675  0.49649197]\n",
      "6\n"
     ]
    }
   ],
   "source": [
    "# Genertaing Random Numbers in the range 0-1\n",
    "print(chromosome.shape[0]) # => n\n",
    "R=np.random.random((chromosome.shape[0]))\n",
    "print(\"Random Number : \",R)\n",
    "print(R.shape[0])"
   ]
  },
  {
   "cell_type": "code",
   "execution_count": 25,
   "metadata": {},
   "outputs": [
    {
     "name": "stdout",
     "output_type": "stream",
     "text": [
      "[[ 27.  11.   7.  23.]\n",
      " [ 20.  13.  16.  10.]\n",
      " [ 20.  13.  16.  10.]\n",
      " [ 12.  29.  22.   9.]\n",
      " [ 29.  17.  25.   6.]\n",
      " [ 20.  13.  16.  10.]]\n"
     ]
    }
   ],
   "source": [
    "# making a new matrix of chromosome for calculation purpose\n",
    "chromosome_2=np.zeros((chromosome.shape[0],4))\n",
    "for i in range(R.shape[0]):\n",
    "    for j in range(chromosome.shape[0]):\n",
    "        if(R[i]< cum_sum[j]):\n",
    "            chromosome_2[i,:]=chromosome[j,:]\n",
    "            break\n",
    "    \n",
    "chromosome=chromosome_2\n",
    "print(chromosome)"
   ]
  },
  {
   "cell_type": "code",
   "execution_count": 26,
   "metadata": {},
   "outputs": [
    {
     "name": "stdout",
     "output_type": "stream",
     "text": [
      "Random values : [ 0.42983501  0.65312173  0.0867861   0.88112512  0.64918344  0.25401092]\n"
     ]
    }
   ],
   "source": [
    "# crossover\n",
    "R=np.random.random((chromosome.shape[0]))\n",
    "print(\"Random values :\",R)"
   ]
  },
  {
   "cell_type": "code",
   "execution_count": 27,
   "metadata": {},
   "outputs": [
    {
     "name": "stdout",
     "output_type": "stream",
     "text": [
      "[False False  True False False False]\n"
     ]
    }
   ],
   "source": [
    "# cross over rate \n",
    "pc=0.25\n",
    "flag =R<pc\n",
    "print(flag)"
   ]
  },
  {
   "cell_type": "code",
   "execution_count": null,
   "metadata": {
    "collapsed": true
   },
   "outputs": [],
   "source": [
    "# Determining the cross chromosme\n",
    "cross_chromosome= ch"
   ]
  },
  {
   "cell_type": "code",
   "execution_count": null,
   "metadata": {
    "collapsed": true
   },
   "outputs": [],
   "source": []
  },
  {
   "cell_type": "code",
   "execution_count": null,
   "metadata": {
    "collapsed": true
   },
   "outputs": [],
   "source": []
  },
  {
   "cell_type": "code",
   "execution_count": null,
   "metadata": {
    "collapsed": true
   },
   "outputs": [],
   "source": []
  },
  {
   "cell_type": "code",
   "execution_count": null,
   "metadata": {
    "collapsed": true
   },
   "outputs": [],
   "source": []
  },
  {
   "cell_type": "code",
   "execution_count": null,
   "metadata": {
    "collapsed": true
   },
   "outputs": [],
   "source": []
  },
  {
   "cell_type": "code",
   "execution_count": null,
   "metadata": {
    "collapsed": true
   },
   "outputs": [],
   "source": [
    "# Crossover Rate\n",
    "    pc = 0.25\n",
    "    flag = Ran_nums < pc\n",
    "    print(\"Flagged Values :\",flag)\n",
    "    \n",
    "    # Determining the cross chromosomes\n",
    "    cross_chromosome = chromosome[[(i == True) for i in flag]]\n",
    "    print(\"Cross chromosome :\",cross_chromosome)\n",
    "    len_cross_chrom = len(cross_chromosome)\n",
    "    \n",
    "    # Calculating cross values\n",
    "    cross_values = np.random.randint(1,3,len_cross_chrom)\n",
    "    print(\"Cross Values :\",cross_values)\n",
    "    \n",
    "    cpy_chromosome = np.zeros(cross_chromosome.shape)\n",
    "    \n",
    "    # Performing Cross-Over\n",
    "    \n",
    "    # Copying the chromosome values for calculations\n",
    "    for i in range(cross_chromosome.shape[0]):\n",
    "        cpy_chromosome[i , :] = cross_chromosome[i , :]\n",
    "        \n",
    "    if len_cross_chrom == 1:\n",
    "        cross_chromosome = cross_chromosome\n",
    "    else :\n",
    "        for i in range(len_cross_chrom):\n",
    "            c_val = cross_values[i]\n",
    "            if i == len_cross_chrom - 1 :\n",
    "                cross_chromosome[i , c_val:] = cpy_chromosome[0 , c_val:]\n",
    "            else :\n",
    "                cross_chromosome[i , c_val:] = cpy_chromosome[i+1 , c_val:]\n",
    "        \n",
    "    print(\"Crossovered Chromosome :\",cross_chromosome)\n",
    "    \n",
    "    index_chromosome = 0\n",
    "    index_newchromosome = 0\n",
    "    for i in flag :\n",
    "        if i == True :\n",
    "            chromosome[index_chromosome, :] = cross_chromosome[index_newchromosome, :]\n",
    "            index_newchromosome = index_newchromosome + 1\n",
    "        index_chromosome = index_chromosome + 1 \n",
    "    \n",
    "    print(\"New Chromosomes:\", chromosome)\n",
    "    \n",
    "    # Calculating the total no. of generations\n",
    "    a ,b = chromosome.shape[0] ,chromosome.shape[1]\n",
    "    total_gen = a*b\n",
    "    print(\"Total Generations :\",total_gen)\n",
    "    \n",
    "    #mutation rate = pm\n",
    "    pm = 0.1\n",
    "    no_of_mutations = int(np.round(pm * total_gen))\n",
    "    print(\"No. of Mutations :\" ,no_of_mutations)\n",
    "    \n",
    "    # Calculating the Generation number\n",
    "    gen_num = np.random.randint(0,total_gen - 1, no_of_mutations)\n",
    "    print(\" Generated Random Numbers : \" , gen_num)\n",
    "    \n",
    "    # Generating a random number which can replace the selected chromosome to be mutated\n",
    "    Replacing_num = np.random.randint(0,30, no_of_mutations)\n",
    "    print(\" Numbers to be replaced : \" , Replacing_num)\n",
    "    \n",
    "    for i in range(no_of_mutations):\n",
    "        a = gen_num[i]\n",
    "        row = a//4\n",
    "        col = a%4\n",
    "        chromosome[row , col] = Replacing_num[i]\n",
    "    \n",
    "    print(\" Chromosomes After Mutation : \" , chromosome)\n",
    "  \n"
   ]
  }
 ],
 "metadata": {
  "kernelspec": {
   "display_name": "Python 3",
   "language": "python",
   "name": "python3"
  },
  "language_info": {
   "codemirror_mode": {
    "name": "ipython",
    "version": 3
   },
   "file_extension": ".py",
   "mimetype": "text/x-python",
   "name": "python",
   "nbconvert_exporter": "python",
   "pygments_lexer": "ipython3",
   "version": "3.6.3"
  }
 },
 "nbformat": 4,
 "nbformat_minor": 2
}
