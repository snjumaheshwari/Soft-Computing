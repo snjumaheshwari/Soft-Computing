{
 "cells": [
  {
   "cell_type": "code",
   "execution_count": 2,
   "metadata": {},
   "outputs": [
    {
     "name": "stdout",
     "output_type": "stream",
     "text": [
      "18.4827387802\n"
     ]
    }
   ],
   "source": [
    "import numpy as np\n",
    "import skfuzzy as fuzz\n",
    "#import matplotlib.pyplot as plt\n",
    "from skfuzzy import control as ctrl\n",
    "\n",
    "\n",
    "# Generate universe variables\n",
    "#   * Quality and service on subjective ranges [0, 10]\n",
    "#   * Tip has a range of [0, 25] in units of percentage points\n",
    "\n",
    "qual = ctrl.Antecedent(np.arange(0, 11, 1), 'qual')\n",
    "serv = ctrl.Antecedent(np.arange(0, 11, 1), 'serv')\n",
    "tip = ctrl.Consequent(np.arange(0, 26, 1), 'tip')\n",
    "\n",
    "# Generate fuzzy membership functions\n",
    "qual['low'] = fuzz.trimf(qual.universe, [0, 0, 5])\n",
    "qual['med'] = fuzz.trimf(qual.universe, [0, 5, 10])\n",
    "qual['hi'] = fuzz.trimf(qual.universe, [5, 10, 10])\n",
    "serv['low'] = fuzz.trimf(serv.universe, [0, 0, 5])\n",
    "serv['med'] = fuzz.trimf(serv.universe, [0, 5, 10])\n",
    "serv['hi'] = fuzz.trimf(serv.universe, [5, 10, 10])\n",
    "tip['low'] = fuzz.trimf(tip.universe, [0, 0, 13])\n",
    "tip['med'] = fuzz.trimf(tip.universe, [0, 13, 25])\n",
    "tip['hi'] = fuzz.trimf(tip.universe, [13, 25, 25])\n",
    "\n",
    "# Visualize these universes and membership functions\n",
    "#qual.view()\n",
    "#serv.view()\n",
    "#tip.view()\n",
    "rule1 = ctrl.Rule(qual['low'] | serv['low'], tip['low'])\n",
    "rule2 = ctrl.Rule(serv['med'], tip['med'])\n",
    "rule3 = ctrl.Rule(serv['hi'] | qual['hi'], tip['hi'])\n",
    "\n",
    "#rule2.view()\n",
    "tip_ctrl = ctrl.ControlSystem([rule1, rule2, rule3])\n",
    "tip_cal = ctrl.ControlSystemSimulation(tip_ctrl)\n",
    "tip_cal.input['qual']=6.5\n",
    "tip_cal.input['serv']=9.5\n",
    "tip_cal.compute()\n",
    "print(tip_cal.output['tip'])\n",
    "#tip.view(sim=tip_cal)\n",
    "\n"
   ]
  },
  {
   "cell_type": "code",
   "execution_count": null,
   "metadata": {
    "collapsed": true
   },
   "outputs": [],
   "source": []
  }
 ],
 "metadata": {
  "kernelspec": {
   "display_name": "Python 3",
   "language": "python",
   "name": "python3"
  },
  "language_info": {
   "codemirror_mode": {
    "name": "ipython",
    "version": 3
   },
   "file_extension": ".py",
   "mimetype": "text/x-python",
   "name": "python",
   "nbconvert_exporter": "python",
   "pygments_lexer": "ipython3",
   "version": "3.6.3"
  }
 },
 "nbformat": 4,
 "nbformat_minor": 2
}
