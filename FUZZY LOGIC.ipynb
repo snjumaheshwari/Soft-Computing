{
 "cells": [
  {
   "cell_type": "code",
   "execution_count": 2,
   "metadata": {},
   "outputs": [
    {
     "name": "stdout",
     "output_type": "stream",
     "text": [
      "18.4827387802\n"
     ]
    }
   ],
   "source": [
    "import numpy as np\n",
    "import skfuzzy as fuzz\n",
    "#import matplotlib.pyplot as plt\n",
    "from skfuzzy import control as ctrl\n",
    "\n",
    "\n",
    "# Generate universe variables\n",
    "#   * Quality and service on subjective ranges [0, 10]\n",
    "#   * Tip has a range of [0, 25] in units of percentage points\n",
    "\n",
    "qual = ctrl.Antecedent(np.arange(0, 11, 1), 'qual')\n",
    "serv = ctrl.Antecedent(np.arange(0, 11, 1), 'serv')\n",
    "tip = ctrl.Consequent(np.arange(0, 26, 1), 'tip')\n",
    "\n",
    "# Generate fuzzy membership functions\n",
    "qual['low'] = fuzz.trimf(qual.universe, [0, 0, 5])\n",
    "qual['med'] = fuzz.trimf(qual.universe, [0, 5, 10])\n",
    "qual['hi'] = fuzz.trimf(qual.universe, [5, 10, 10])\n",
    "serv['low'] = fuzz.trimf(serv.universe, [0, 0, 5])\n",
    "serv['med'] = fuzz.trimf(serv.universe, [0, 5, 10])\n",
    "serv['hi'] = fuzz.trimf(serv.universe, [5, 10, 10])\n",
    "tip['low'] = fuzz.trimf(tip.universe, [0, 0, 13])\n",
    "tip['med'] = fuzz.trimf(tip.universe, [0, 13, 25])\n",
    "tip['hi'] = fuzz.trimf(tip.universe, [13, 25, 25])\n",
    "\n",
    "# Visualize these universes and membership functions\n",
    "#qual.view()\n",
    "#serv.view()\n",
    "#tip.view()\n",
    "rule1 = ctrl.Rule(qual['low'] | serv['low'], tip['low'])\n",
    "rule2 = ctrl.Rule(serv['med'], tip['med'])\n",
    "rule3 = ctrl.Rule(serv['hi'] | qual['hi'], tip['hi'])\n",
    "\n",
    "#rule2.view()\n",
    "tip_ctrl = ctrl.ControlSystem([rule1, rule2, rule3])\n",
    "tip_cal = ctrl.ControlSystemSimulation(tip_ctrl)\n",
    "tip_cal.input['qual']=6.5\n",
    "tip_cal.input['serv']=9.5\n",
    "tip_cal.compute()\n",
    "print(tip_cal.output['tip'])\n",
    "#tip.view(sim=tip_cal)\n",
    "\n"
   ]
  },
  {
   "cell_type": "code",
   "execution_count": null,
   "metadata": {
    "collapsed": true
   },
   "outputs": [],
   "source": []
  },
  {
   "cell_type": "code",
   "execution_count": 3,
   "metadata": {},
   "outputs": [
    {
     "name": "stdout",
     "output_type": "stream",
     "text": [
      "19.847607362\n"
     ]
    },
    {
     "name": "stderr",
     "output_type": "stream",
     "text": [
      "C:\\ProgramData\\Anaconda3\\lib\\site-packages\\matplotlib\\figure.py:418: UserWarning: matplotlib is currently using a non-GUI backend, so cannot show the figure\n",
      "  \"matplotlib is currently using a non-GUI backend, \"\n"
     ]
    }
   ],
   "source": [
    "import numpy as np\n",
    "import skfuzzy as fuzz\n",
    "from skfuzzy import control as ctrl\n",
    "\n",
    "# New Antecedent/Consequent objects hold universe variables and membership\n",
    "# functions\n",
    "quality = ctrl.Antecedent(np.arange(0, 11, 1), 'quality')\n",
    "service = ctrl.Antecedent(np.arange(0, 11, 1), 'service')\n",
    "tip = ctrl.Consequent(np.arange(0, 26, 1), 'tip')\n",
    "\n",
    "# Auto-membership function population is possible with .automf(3, 5, or 7)\n",
    "quality.automf(3)\n",
    "service.automf(3)\n",
    "\n",
    "# Custom membership functions can be built interactively with a familiar,\n",
    "# Pythonic API\n",
    "tip['low'] = fuzz.trimf(tip.universe, [0, 0, 13])\n",
    "tip['medium'] = fuzz.trimf(tip.universe, [0, 13, 25])\n",
    "tip['high'] = fuzz.trimf(tip.universe, [13, 25, 25])\n",
    "##\n",
    "# You can see how these look with .view()\n",
    "quality['average'].view()\n",
    "service.view()\n",
    "\n",
    "tip.view()\n",
    "##\n",
    "rule1 = ctrl.Rule(quality['poor'] | service['poor'], tip['low'])\n",
    "rule2 = ctrl.Rule(service['average'], tip['medium'])\n",
    "rule3 = ctrl.Rule(service['good'] | quality['good'], tip['high'])\n",
    "\n",
    "rule1.view()\n",
    "#\n",
    "tipping_ctrl = ctrl.ControlSystem([rule1, rule2, rule3])\n",
    "tipping = ctrl.ControlSystemSimulation(tipping_ctrl)\n",
    "# Pass inputs to the ControlSystem using Antecedent labels with Pythonic API\n",
    "# Note: if you like passing many inputs all at once, use .inputs(dict_of_data)\n",
    "tipping.input['quality'] = 6.5\n",
    "tipping.input['service'] = 9.8\n",
    "\n",
    "# Crunch the numbers\n",
    "tipping.compute()\n",
    "print (tipping.output['tip'])\n",
    "tip.view(sim=tipping)"
   ]
  },
  {
   "cell_type": "code",
   "execution_count": null,
   "metadata": {
    "collapsed": true
   },
   "outputs": [],
   "source": []
  }
 ],
 "metadata": {
  "kernelspec": {
   "display_name": "Python 3",
   "language": "python",
   "name": "python3"
  },
  "language_info": {
   "codemirror_mode": {
    "name": "ipython",
    "version": 3
   },
   "file_extension": ".py",
   "mimetype": "text/x-python",
   "name": "python",
   "nbconvert_exporter": "python",
   "pygments_lexer": "ipython3",
   "version": "3.6.3"
  }
 },
 "nbformat": 4,
 "nbformat_minor": 2
}
